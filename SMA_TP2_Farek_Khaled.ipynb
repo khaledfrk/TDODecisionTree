{
  "nbformat": 4,
  "nbformat_minor": 0,
  "metadata": {
    "colab": {
      "provenance": []
    },
    "kernelspec": {
      "name": "python3",
      "display_name": "Python 3"
    },
    "language_info": {
      "name": "python"
    }
  },
  "cells": [
    {
      "cell_type": "markdown",
      "source": [
        "# Tasmanian Devil Optimizer on decision tree model for predicting fake instagram accounts\n",
        "\n",
        "In this TP we re gonna apply the **Tasmanian Devil Optimizer** on a **decision tree parameter** to find the best value with best accuracy in predicting fake instagram accounts.\n",
        "\n",
        "\n",
        "Done by **Farek Khaled Baha Eddine s**."
      ],
      "metadata": {
        "id": "88pyDzhKr0uF"
      }
    },
    {
      "cell_type": "markdown",
      "source": [
        "# Loading libraries"
      ],
      "metadata": {
        "id": "hOO5iPqBtDWR"
      }
    },
    {
      "cell_type": "code",
      "execution_count": null,
      "metadata": {
        "colab": {
          "base_uri": "https://localhost:8080/"
        },
        "id": "qtfwJlYurvg5",
        "outputId": "69d1f1d6-0c17-4daf-94dc-a20249a67cf5"
      },
      "outputs": [
        {
          "output_type": "stream",
          "name": "stdout",
          "text": [
            "Looking in indexes: https://pypi.org/simple, https://us-python.pkg.dev/colab-wheels/public/simple/\n",
            "Collecting scikit-plot\n",
            "  Downloading scikit_plot-0.3.7-py3-none-any.whl (33 kB)\n",
            "Requirement already satisfied: matplotlib>=1.4.0 in /usr/local/lib/python3.8/dist-packages (from scikit-plot) (3.2.2)\n",
            "Requirement already satisfied: scikit-learn>=0.18 in /usr/local/lib/python3.8/dist-packages (from scikit-plot) (1.0.2)\n",
            "Requirement already satisfied: joblib>=0.10 in /usr/local/lib/python3.8/dist-packages (from scikit-plot) (1.2.0)\n",
            "Requirement already satisfied: scipy>=0.9 in /usr/local/lib/python3.8/dist-packages (from scikit-plot) (1.7.3)\n",
            "Requirement already satisfied: python-dateutil>=2.1 in /usr/local/lib/python3.8/dist-packages (from matplotlib>=1.4.0->scikit-plot) (2.8.2)\n",
            "Requirement already satisfied: cycler>=0.10 in /usr/local/lib/python3.8/dist-packages (from matplotlib>=1.4.0->scikit-plot) (0.11.0)\n",
            "Requirement already satisfied: kiwisolver>=1.0.1 in /usr/local/lib/python3.8/dist-packages (from matplotlib>=1.4.0->scikit-plot) (1.4.4)\n",
            "Requirement already satisfied: numpy>=1.11 in /usr/local/lib/python3.8/dist-packages (from matplotlib>=1.4.0->scikit-plot) (1.21.6)\n",
            "Requirement already satisfied: pyparsing!=2.0.4,!=2.1.2,!=2.1.6,>=2.0.1 in /usr/local/lib/python3.8/dist-packages (from matplotlib>=1.4.0->scikit-plot) (3.0.9)\n",
            "Requirement already satisfied: threadpoolctl>=2.0.0 in /usr/local/lib/python3.8/dist-packages (from scikit-learn>=0.18->scikit-plot) (3.1.0)\n",
            "Requirement already satisfied: six>=1.5 in /usr/local/lib/python3.8/dist-packages (from python-dateutil>=2.1->matplotlib>=1.4.0->scikit-plot) (1.15.0)\n",
            "Installing collected packages: scikit-plot\n",
            "Successfully installed scikit-plot-0.3.7\n"
          ]
        }
      ],
      "source": [
        "pip install scikit-plot"
      ]
    },
    {
      "cell_type": "code",
      "source": [
        "import warnings\n",
        "warnings.filterwarnings('ignore')\n",
        "\n",
        "#loading dataset\n",
        "import numpy as np\n",
        "import pandas as pd\n",
        "\n",
        "#visualisation\n",
        "import matplotlib.pyplot as plt\n",
        "import seaborn as sns\n",
        "#import scikitplot as skplt\n",
        "\n",
        "#data preprocessing\n",
        "from sklearn.preprocessing import LabelEncoder\n",
        "from sklearn.preprocessing import StandardScaler\n",
        "\n",
        "#data splitting\n",
        "from sklearn.model_selection import train_test_split\n",
        "from sklearn.model_selection import GridSearchCV\n",
        "\n",
        "#data modeling\n",
        "\n",
        "\n",
        "#model evaluation\n",
        "from sklearn.metrics import make_scorer, f1_score, accuracy_score, confusion_matrix, classification_report\n",
        "from sklearn.metrics import roc_curve, roc_auc_score"
      ],
      "metadata": {
        "id": "nvqzpBhwtNaA"
      },
      "execution_count": null,
      "outputs": []
    },
    {
      "cell_type": "markdown",
      "source": [
        "# Loading and previewing data"
      ],
      "metadata": {
        "id": "78Sulz70t0KI"
      }
    },
    {
      "cell_type": "code",
      "source": [
        "data= pd.read_csv('train.csv')\n",
        "data\n"
      ],
      "metadata": {
        "colab": {
          "base_uri": "https://localhost:8080/",
          "height": 505
        },
        "id": "4zitFXjwuOPI",
        "outputId": "e4073ded-8fe3-42cc-a496-4125fb1fd5ce"
      },
      "execution_count": null,
      "outputs": [
        {
          "output_type": "execute_result",
          "data": {
            "text/plain": [
              "     profile pic  nums/length username  fullname words  nums/length fullname  \\\n",
              "0              1                  0.27               0                  0.00   \n",
              "1              1                  0.00               2                  0.00   \n",
              "2              1                  0.10               2                  0.00   \n",
              "3              1                  0.00               1                  0.00   \n",
              "4              1                  0.00               2                  0.00   \n",
              "..           ...                   ...             ...                   ...   \n",
              "571            1                  0.55               1                  0.44   \n",
              "572            1                  0.38               1                  0.33   \n",
              "573            1                  0.57               2                  0.00   \n",
              "574            1                  0.57               1                  0.00   \n",
              "575            1                  0.27               1                  0.00   \n",
              "\n",
              "     name==username  description length  external URL  private  #posts  \\\n",
              "0                 0                  53             0        0      32   \n",
              "1                 0                  44             0        0     286   \n",
              "2                 0                   0             0        1      13   \n",
              "3                 0                  82             0        0     679   \n",
              "4                 0                   0             0        1       6   \n",
              "..              ...                 ...           ...      ...     ...   \n",
              "571               0                   0             0        0      33   \n",
              "572               0                  21             0        0      44   \n",
              "573               0                   0             0        0       4   \n",
              "574               0                  11             0        0       0   \n",
              "575               0                   0             0        0       2   \n",
              "\n",
              "     #followers  #follows  fake  \n",
              "0          1000       955     0  \n",
              "1          2740       533     0  \n",
              "2           159        98     0  \n",
              "3           414       651     0  \n",
              "4           151       126     0  \n",
              "..          ...       ...   ...  \n",
              "571         166       596     1  \n",
              "572          66        75     1  \n",
              "573          96       339     1  \n",
              "574          57        73     1  \n",
              "575         150       487     1  \n",
              "\n",
              "[576 rows x 12 columns]"
            ],
            "text/html": [
              "\n",
              "  <div id=\"df-4e4f4600-8061-4c22-8df4-3fd91d852f90\">\n",
              "    <div class=\"colab-df-container\">\n",
              "      <div>\n",
              "<style scoped>\n",
              "    .dataframe tbody tr th:only-of-type {\n",
              "        vertical-align: middle;\n",
              "    }\n",
              "\n",
              "    .dataframe tbody tr th {\n",
              "        vertical-align: top;\n",
              "    }\n",
              "\n",
              "    .dataframe thead th {\n",
              "        text-align: right;\n",
              "    }\n",
              "</style>\n",
              "<table border=\"1\" class=\"dataframe\">\n",
              "  <thead>\n",
              "    <tr style=\"text-align: right;\">\n",
              "      <th></th>\n",
              "      <th>profile pic</th>\n",
              "      <th>nums/length username</th>\n",
              "      <th>fullname words</th>\n",
              "      <th>nums/length fullname</th>\n",
              "      <th>name==username</th>\n",
              "      <th>description length</th>\n",
              "      <th>external URL</th>\n",
              "      <th>private</th>\n",
              "      <th>#posts</th>\n",
              "      <th>#followers</th>\n",
              "      <th>#follows</th>\n",
              "      <th>fake</th>\n",
              "    </tr>\n",
              "  </thead>\n",
              "  <tbody>\n",
              "    <tr>\n",
              "      <th>0</th>\n",
              "      <td>1</td>\n",
              "      <td>0.27</td>\n",
              "      <td>0</td>\n",
              "      <td>0.00</td>\n",
              "      <td>0</td>\n",
              "      <td>53</td>\n",
              "      <td>0</td>\n",
              "      <td>0</td>\n",
              "      <td>32</td>\n",
              "      <td>1000</td>\n",
              "      <td>955</td>\n",
              "      <td>0</td>\n",
              "    </tr>\n",
              "    <tr>\n",
              "      <th>1</th>\n",
              "      <td>1</td>\n",
              "      <td>0.00</td>\n",
              "      <td>2</td>\n",
              "      <td>0.00</td>\n",
              "      <td>0</td>\n",
              "      <td>44</td>\n",
              "      <td>0</td>\n",
              "      <td>0</td>\n",
              "      <td>286</td>\n",
              "      <td>2740</td>\n",
              "      <td>533</td>\n",
              "      <td>0</td>\n",
              "    </tr>\n",
              "    <tr>\n",
              "      <th>2</th>\n",
              "      <td>1</td>\n",
              "      <td>0.10</td>\n",
              "      <td>2</td>\n",
              "      <td>0.00</td>\n",
              "      <td>0</td>\n",
              "      <td>0</td>\n",
              "      <td>0</td>\n",
              "      <td>1</td>\n",
              "      <td>13</td>\n",
              "      <td>159</td>\n",
              "      <td>98</td>\n",
              "      <td>0</td>\n",
              "    </tr>\n",
              "    <tr>\n",
              "      <th>3</th>\n",
              "      <td>1</td>\n",
              "      <td>0.00</td>\n",
              "      <td>1</td>\n",
              "      <td>0.00</td>\n",
              "      <td>0</td>\n",
              "      <td>82</td>\n",
              "      <td>0</td>\n",
              "      <td>0</td>\n",
              "      <td>679</td>\n",
              "      <td>414</td>\n",
              "      <td>651</td>\n",
              "      <td>0</td>\n",
              "    </tr>\n",
              "    <tr>\n",
              "      <th>4</th>\n",
              "      <td>1</td>\n",
              "      <td>0.00</td>\n",
              "      <td>2</td>\n",
              "      <td>0.00</td>\n",
              "      <td>0</td>\n",
              "      <td>0</td>\n",
              "      <td>0</td>\n",
              "      <td>1</td>\n",
              "      <td>6</td>\n",
              "      <td>151</td>\n",
              "      <td>126</td>\n",
              "      <td>0</td>\n",
              "    </tr>\n",
              "    <tr>\n",
              "      <th>...</th>\n",
              "      <td>...</td>\n",
              "      <td>...</td>\n",
              "      <td>...</td>\n",
              "      <td>...</td>\n",
              "      <td>...</td>\n",
              "      <td>...</td>\n",
              "      <td>...</td>\n",
              "      <td>...</td>\n",
              "      <td>...</td>\n",
              "      <td>...</td>\n",
              "      <td>...</td>\n",
              "      <td>...</td>\n",
              "    </tr>\n",
              "    <tr>\n",
              "      <th>571</th>\n",
              "      <td>1</td>\n",
              "      <td>0.55</td>\n",
              "      <td>1</td>\n",
              "      <td>0.44</td>\n",
              "      <td>0</td>\n",
              "      <td>0</td>\n",
              "      <td>0</td>\n",
              "      <td>0</td>\n",
              "      <td>33</td>\n",
              "      <td>166</td>\n",
              "      <td>596</td>\n",
              "      <td>1</td>\n",
              "    </tr>\n",
              "    <tr>\n",
              "      <th>572</th>\n",
              "      <td>1</td>\n",
              "      <td>0.38</td>\n",
              "      <td>1</td>\n",
              "      <td>0.33</td>\n",
              "      <td>0</td>\n",
              "      <td>21</td>\n",
              "      <td>0</td>\n",
              "      <td>0</td>\n",
              "      <td>44</td>\n",
              "      <td>66</td>\n",
              "      <td>75</td>\n",
              "      <td>1</td>\n",
              "    </tr>\n",
              "    <tr>\n",
              "      <th>573</th>\n",
              "      <td>1</td>\n",
              "      <td>0.57</td>\n",
              "      <td>2</td>\n",
              "      <td>0.00</td>\n",
              "      <td>0</td>\n",
              "      <td>0</td>\n",
              "      <td>0</td>\n",
              "      <td>0</td>\n",
              "      <td>4</td>\n",
              "      <td>96</td>\n",
              "      <td>339</td>\n",
              "      <td>1</td>\n",
              "    </tr>\n",
              "    <tr>\n",
              "      <th>574</th>\n",
              "      <td>1</td>\n",
              "      <td>0.57</td>\n",
              "      <td>1</td>\n",
              "      <td>0.00</td>\n",
              "      <td>0</td>\n",
              "      <td>11</td>\n",
              "      <td>0</td>\n",
              "      <td>0</td>\n",
              "      <td>0</td>\n",
              "      <td>57</td>\n",
              "      <td>73</td>\n",
              "      <td>1</td>\n",
              "    </tr>\n",
              "    <tr>\n",
              "      <th>575</th>\n",
              "      <td>1</td>\n",
              "      <td>0.27</td>\n",
              "      <td>1</td>\n",
              "      <td>0.00</td>\n",
              "      <td>0</td>\n",
              "      <td>0</td>\n",
              "      <td>0</td>\n",
              "      <td>0</td>\n",
              "      <td>2</td>\n",
              "      <td>150</td>\n",
              "      <td>487</td>\n",
              "      <td>1</td>\n",
              "    </tr>\n",
              "  </tbody>\n",
              "</table>\n",
              "<p>576 rows × 12 columns</p>\n",
              "</div>\n",
              "      <button class=\"colab-df-convert\" onclick=\"convertToInteractive('df-4e4f4600-8061-4c22-8df4-3fd91d852f90')\"\n",
              "              title=\"Convert this dataframe to an interactive table.\"\n",
              "              style=\"display:none;\">\n",
              "        \n",
              "  <svg xmlns=\"http://www.w3.org/2000/svg\" height=\"24px\"viewBox=\"0 0 24 24\"\n",
              "       width=\"24px\">\n",
              "    <path d=\"M0 0h24v24H0V0z\" fill=\"none\"/>\n",
              "    <path d=\"M18.56 5.44l.94 2.06.94-2.06 2.06-.94-2.06-.94-.94-2.06-.94 2.06-2.06.94zm-11 1L8.5 8.5l.94-2.06 2.06-.94-2.06-.94L8.5 2.5l-.94 2.06-2.06.94zm10 10l.94 2.06.94-2.06 2.06-.94-2.06-.94-.94-2.06-.94 2.06-2.06.94z\"/><path d=\"M17.41 7.96l-1.37-1.37c-.4-.4-.92-.59-1.43-.59-.52 0-1.04.2-1.43.59L10.3 9.45l-7.72 7.72c-.78.78-.78 2.05 0 2.83L4 21.41c.39.39.9.59 1.41.59.51 0 1.02-.2 1.41-.59l7.78-7.78 2.81-2.81c.8-.78.8-2.07 0-2.86zM5.41 20L4 18.59l7.72-7.72 1.47 1.35L5.41 20z\"/>\n",
              "  </svg>\n",
              "      </button>\n",
              "      \n",
              "  <style>\n",
              "    .colab-df-container {\n",
              "      display:flex;\n",
              "      flex-wrap:wrap;\n",
              "      gap: 12px;\n",
              "    }\n",
              "\n",
              "    .colab-df-convert {\n",
              "      background-color: #E8F0FE;\n",
              "      border: none;\n",
              "      border-radius: 50%;\n",
              "      cursor: pointer;\n",
              "      display: none;\n",
              "      fill: #1967D2;\n",
              "      height: 32px;\n",
              "      padding: 0 0 0 0;\n",
              "      width: 32px;\n",
              "    }\n",
              "\n",
              "    .colab-df-convert:hover {\n",
              "      background-color: #E2EBFA;\n",
              "      box-shadow: 0px 1px 2px rgba(60, 64, 67, 0.3), 0px 1px 3px 1px rgba(60, 64, 67, 0.15);\n",
              "      fill: #174EA6;\n",
              "    }\n",
              "\n",
              "    [theme=dark] .colab-df-convert {\n",
              "      background-color: #3B4455;\n",
              "      fill: #D2E3FC;\n",
              "    }\n",
              "\n",
              "    [theme=dark] .colab-df-convert:hover {\n",
              "      background-color: #434B5C;\n",
              "      box-shadow: 0px 1px 3px 1px rgba(0, 0, 0, 0.15);\n",
              "      filter: drop-shadow(0px 1px 2px rgba(0, 0, 0, 0.3));\n",
              "      fill: #FFFFFF;\n",
              "    }\n",
              "  </style>\n",
              "\n",
              "      <script>\n",
              "        const buttonEl =\n",
              "          document.querySelector('#df-4e4f4600-8061-4c22-8df4-3fd91d852f90 button.colab-df-convert');\n",
              "        buttonEl.style.display =\n",
              "          google.colab.kernel.accessAllowed ? 'block' : 'none';\n",
              "\n",
              "        async function convertToInteractive(key) {\n",
              "          const element = document.querySelector('#df-4e4f4600-8061-4c22-8df4-3fd91d852f90');\n",
              "          const dataTable =\n",
              "            await google.colab.kernel.invokeFunction('convertToInteractive',\n",
              "                                                     [key], {});\n",
              "          if (!dataTable) return;\n",
              "\n",
              "          const docLinkHtml = 'Like what you see? Visit the ' +\n",
              "            '<a target=\"_blank\" href=https://colab.research.google.com/notebooks/data_table.ipynb>data table notebook</a>'\n",
              "            + ' to learn more about interactive tables.';\n",
              "          element.innerHTML = '';\n",
              "          dataTable['output_type'] = 'display_data';\n",
              "          await google.colab.output.renderOutput(dataTable, element);\n",
              "          const docLink = document.createElement('div');\n",
              "          docLink.innerHTML = docLinkHtml;\n",
              "          element.appendChild(docLink);\n",
              "        }\n",
              "      </script>\n",
              "    </div>\n",
              "  </div>\n",
              "  "
            ]
          },
          "metadata": {},
          "execution_count": 53
        }
      ]
    },
    {
      "cell_type": "markdown",
      "source": [
        "# Cleaning data"
      ],
      "metadata": {
        "id": "CzUOhh0mVqM0"
      }
    },
    {
      "cell_type": "markdown",
      "source": [
        "****"
      ],
      "metadata": {
        "id": "joMmTzOObXPF"
      }
    },
    {
      "cell_type": "markdown",
      "source": [
        "**Check for duplicates and removing them**"
      ],
      "metadata": {
        "id": "Uw2kROadVxGz"
      }
    },
    {
      "cell_type": "code",
      "source": [
        "data.duplicated().any()\n",
        "duplicated = data.duplicated()\n",
        "data[duplicated]"
      ],
      "metadata": {
        "colab": {
          "base_uri": "https://localhost:8080/",
          "height": 193
        },
        "id": "d7zEpOQyVvs6",
        "outputId": "c6b92777-2c4e-42fc-9a50-787bf5fe4b5e"
      },
      "execution_count": null,
      "outputs": [
        {
          "output_type": "execute_result",
          "data": {
            "text/plain": [
              "     profile pic  nums/length username  fullname words  nums/length fullname  \\\n",
              "197            1                  0.00               2                   0.0   \n",
              "525            1                  0.91               1                   0.0   \n",
              "\n",
              "     name==username  description length  external URL  private  #posts  \\\n",
              "197               0                  48             0        0     222   \n",
              "525               0                   0             0        0       0   \n",
              "\n",
              "     #followers  #follows  fake  \n",
              "197        5282       652     0  \n",
              "525          75        26     1  "
            ],
            "text/html": [
              "\n",
              "  <div id=\"df-9782c4ed-76b0-4c23-8c3d-aa3fcdc3ad6f\">\n",
              "    <div class=\"colab-df-container\">\n",
              "      <div>\n",
              "<style scoped>\n",
              "    .dataframe tbody tr th:only-of-type {\n",
              "        vertical-align: middle;\n",
              "    }\n",
              "\n",
              "    .dataframe tbody tr th {\n",
              "        vertical-align: top;\n",
              "    }\n",
              "\n",
              "    .dataframe thead th {\n",
              "        text-align: right;\n",
              "    }\n",
              "</style>\n",
              "<table border=\"1\" class=\"dataframe\">\n",
              "  <thead>\n",
              "    <tr style=\"text-align: right;\">\n",
              "      <th></th>\n",
              "      <th>profile pic</th>\n",
              "      <th>nums/length username</th>\n",
              "      <th>fullname words</th>\n",
              "      <th>nums/length fullname</th>\n",
              "      <th>name==username</th>\n",
              "      <th>description length</th>\n",
              "      <th>external URL</th>\n",
              "      <th>private</th>\n",
              "      <th>#posts</th>\n",
              "      <th>#followers</th>\n",
              "      <th>#follows</th>\n",
              "      <th>fake</th>\n",
              "    </tr>\n",
              "  </thead>\n",
              "  <tbody>\n",
              "    <tr>\n",
              "      <th>197</th>\n",
              "      <td>1</td>\n",
              "      <td>0.00</td>\n",
              "      <td>2</td>\n",
              "      <td>0.0</td>\n",
              "      <td>0</td>\n",
              "      <td>48</td>\n",
              "      <td>0</td>\n",
              "      <td>0</td>\n",
              "      <td>222</td>\n",
              "      <td>5282</td>\n",
              "      <td>652</td>\n",
              "      <td>0</td>\n",
              "    </tr>\n",
              "    <tr>\n",
              "      <th>525</th>\n",
              "      <td>1</td>\n",
              "      <td>0.91</td>\n",
              "      <td>1</td>\n",
              "      <td>0.0</td>\n",
              "      <td>0</td>\n",
              "      <td>0</td>\n",
              "      <td>0</td>\n",
              "      <td>0</td>\n",
              "      <td>0</td>\n",
              "      <td>75</td>\n",
              "      <td>26</td>\n",
              "      <td>1</td>\n",
              "    </tr>\n",
              "  </tbody>\n",
              "</table>\n",
              "</div>\n",
              "      <button class=\"colab-df-convert\" onclick=\"convertToInteractive('df-9782c4ed-76b0-4c23-8c3d-aa3fcdc3ad6f')\"\n",
              "              title=\"Convert this dataframe to an interactive table.\"\n",
              "              style=\"display:none;\">\n",
              "        \n",
              "  <svg xmlns=\"http://www.w3.org/2000/svg\" height=\"24px\"viewBox=\"0 0 24 24\"\n",
              "       width=\"24px\">\n",
              "    <path d=\"M0 0h24v24H0V0z\" fill=\"none\"/>\n",
              "    <path d=\"M18.56 5.44l.94 2.06.94-2.06 2.06-.94-2.06-.94-.94-2.06-.94 2.06-2.06.94zm-11 1L8.5 8.5l.94-2.06 2.06-.94-2.06-.94L8.5 2.5l-.94 2.06-2.06.94zm10 10l.94 2.06.94-2.06 2.06-.94-2.06-.94-.94-2.06-.94 2.06-2.06.94z\"/><path d=\"M17.41 7.96l-1.37-1.37c-.4-.4-.92-.59-1.43-.59-.52 0-1.04.2-1.43.59L10.3 9.45l-7.72 7.72c-.78.78-.78 2.05 0 2.83L4 21.41c.39.39.9.59 1.41.59.51 0 1.02-.2 1.41-.59l7.78-7.78 2.81-2.81c.8-.78.8-2.07 0-2.86zM5.41 20L4 18.59l7.72-7.72 1.47 1.35L5.41 20z\"/>\n",
              "  </svg>\n",
              "      </button>\n",
              "      \n",
              "  <style>\n",
              "    .colab-df-container {\n",
              "      display:flex;\n",
              "      flex-wrap:wrap;\n",
              "      gap: 12px;\n",
              "    }\n",
              "\n",
              "    .colab-df-convert {\n",
              "      background-color: #E8F0FE;\n",
              "      border: none;\n",
              "      border-radius: 50%;\n",
              "      cursor: pointer;\n",
              "      display: none;\n",
              "      fill: #1967D2;\n",
              "      height: 32px;\n",
              "      padding: 0 0 0 0;\n",
              "      width: 32px;\n",
              "    }\n",
              "\n",
              "    .colab-df-convert:hover {\n",
              "      background-color: #E2EBFA;\n",
              "      box-shadow: 0px 1px 2px rgba(60, 64, 67, 0.3), 0px 1px 3px 1px rgba(60, 64, 67, 0.15);\n",
              "      fill: #174EA6;\n",
              "    }\n",
              "\n",
              "    [theme=dark] .colab-df-convert {\n",
              "      background-color: #3B4455;\n",
              "      fill: #D2E3FC;\n",
              "    }\n",
              "\n",
              "    [theme=dark] .colab-df-convert:hover {\n",
              "      background-color: #434B5C;\n",
              "      box-shadow: 0px 1px 3px 1px rgba(0, 0, 0, 0.15);\n",
              "      filter: drop-shadow(0px 1px 2px rgba(0, 0, 0, 0.3));\n",
              "      fill: #FFFFFF;\n",
              "    }\n",
              "  </style>\n",
              "\n",
              "      <script>\n",
              "        const buttonEl =\n",
              "          document.querySelector('#df-9782c4ed-76b0-4c23-8c3d-aa3fcdc3ad6f button.colab-df-convert');\n",
              "        buttonEl.style.display =\n",
              "          google.colab.kernel.accessAllowed ? 'block' : 'none';\n",
              "\n",
              "        async function convertToInteractive(key) {\n",
              "          const element = document.querySelector('#df-9782c4ed-76b0-4c23-8c3d-aa3fcdc3ad6f');\n",
              "          const dataTable =\n",
              "            await google.colab.kernel.invokeFunction('convertToInteractive',\n",
              "                                                     [key], {});\n",
              "          if (!dataTable) return;\n",
              "\n",
              "          const docLinkHtml = 'Like what you see? Visit the ' +\n",
              "            '<a target=\"_blank\" href=https://colab.research.google.com/notebooks/data_table.ipynb>data table notebook</a>'\n",
              "            + ' to learn more about interactive tables.';\n",
              "          element.innerHTML = '';\n",
              "          dataTable['output_type'] = 'display_data';\n",
              "          await google.colab.output.renderOutput(dataTable, element);\n",
              "          const docLink = document.createElement('div');\n",
              "          docLink.innerHTML = docLinkHtml;\n",
              "          element.appendChild(docLink);\n",
              "        }\n",
              "      </script>\n",
              "    </div>\n",
              "  </div>\n",
              "  "
            ]
          },
          "metadata": {},
          "execution_count": 54
        }
      ]
    },
    {
      "cell_type": "markdown",
      "source": [
        "Duplicates in this case were not really duplicates, but just rows with some of the same values, so we will not remove anything."
      ],
      "metadata": {
        "id": "4IC7m40hWTmE"
      }
    },
    {
      "cell_type": "markdown",
      "source": [
        "****"
      ],
      "metadata": {
        "id": "LWzShMeOWeLk"
      }
    },
    {
      "cell_type": "markdown",
      "source": [
        "**Checking for missing values**"
      ],
      "metadata": {
        "id": "pxpD1A2LZPCl"
      }
    },
    {
      "cell_type": "markdown",
      "source": [
        "This dataset had no missing value.\n",
        "\n",
        "\n",
        "\n"
      ],
      "metadata": {
        "id": "K5UdrBE4ZTy9"
      }
    },
    {
      "cell_type": "markdown",
      "source": [
        "****"
      ],
      "metadata": {
        "id": "ArPFoZ-SZZud"
      }
    },
    {
      "cell_type": "markdown",
      "source": [
        "**Outlier Detection**"
      ],
      "metadata": {
        "id": "Q9j-lxNOZcU1"
      }
    },
    {
      "cell_type": "markdown",
      "source": [
        "Outliers are those data points that are significantly diffrent from the rest of the dataset.They are often abnormal observation that skew the data distribution , and arise due to inconsistent data entry, or erroneous abservations.Their presence can distort model training and inference.\n",
        "\n",
        "Boxplots are often used to detects those outliers."
      ],
      "metadata": {
        "id": "XYTVH9A5aKh0"
      }
    },
    {
      "cell_type": "code",
      "source": [
        "fig, axs = plt.subplots(ncols = 3, nrows = 4, figsize = (15, 15))\n",
        "fig.delaxes(axs[3][2])\n",
        "idx = 0\n",
        "axs = axs.flatten()\n",
        "for k, v in data.items():\n",
        "    sns.boxplot(y = k, data = data, ax = axs[idx])\n",
        "    idx += 1\n",
        "plt.tight_layout(pad = 0.4, w_pad = 0.5, h_pad = 5.0)"
      ],
      "metadata": {
        "colab": {
          "base_uri": "https://localhost:8080/",
          "height": 960
        },
        "id": "bQmj9f5PZjmF",
        "outputId": "00464dcb-be91-4ff5-a072-d5c748210aff"
      },
      "execution_count": null,
      "outputs": [
        {
          "output_type": "display_data",
          "data": {
            "text/plain": [
              "<Figure size 1080x1080 with 11 Axes>"
            ],
            "image/png": "[encoded data removed]"
          },
          "metadata": {
            "needs_background": "light"
          }
        }
      ]
    },
    {
      "cell_type": "markdown",
      "source": [
        "Removing otliers from \n",
        "**description length**\n",
        "\n",
        "\n"
      ],
      "metadata": {
        "id": "qaeU4FQ0cq0N"
      }
    },
    {
      "cell_type": "code",
      "source": [
        "Q1 = np.percentile(data['description length'], 25,\n",
        "                   interpolation = 'midpoint')\n",
        " \n",
        "Q3 = np.percentile(data['description length'], 75,\n",
        "                   interpolation = 'midpoint')\n",
        "IQR = Q3 - Q1\n",
        " \n",
        "print(\"Old Shape: \", data.shape)\n",
        "\n",
        "# Upper bound\n",
        "upper = np.where(data['description length'] >= (Q3+1.5*IQR))\n",
        "# Lower bound\n",
        "lower = np.where(data['description length'] <= (Q1-1.5*IQR))\n",
        "print(upper)\n",
        " \n",
        "''' Removing the Outliers '''\n",
        "data.drop(upper[0] ,inplace = True)\n",
        "\n",
        " \n",
        "print(\"New Shape: \", data.shape)"
      ],
      "metadata": {
        "colab": {
          "base_uri": "https://localhost:8080/"
        },
        "id": "APz-z5YhcE6V",
        "outputId": "a81fbb9a-5ce0-4235-fb25-3476606fe922"
      },
      "execution_count": null,
      "outputs": [
        {
          "output_type": "stream",
          "name": "stdout",
          "text": [
            "Old Shape:  (576, 12)\n",
            "(array([ 13,  14,  19,  25,  27,  28,  29,  30,  38,  43,  45,  50,  52,\n",
            "        64, 105, 106, 107, 112, 118, 130, 132, 133, 139, 144, 148, 149,\n",
            "       153, 161, 164, 165, 172, 173, 176, 193, 194, 198, 205, 209, 213,\n",
            "       214, 218, 225, 226, 234, 235, 245, 260, 272, 366, 380, 398, 414,\n",
            "       442]),)\n",
            "New Shape:  (523, 12)\n"
          ]
        }
      ]
    },
    {
      "cell_type": "markdown",
      "source": [
        "Removing outliers from **Fullname words**"
      ],
      "metadata": {
        "id": "lJqbX0z0c2ht"
      }
    },
    {
      "cell_type": "code",
      "source": [
        "Q1 = np.percentile(data['fullname words'], 25,\n",
        "                   interpolation = 'midpoint')\n",
        " \n",
        "Q3 = np.percentile(data['fullname words'], 75,\n",
        "                   interpolation = 'midpoint')\n",
        "IQR = Q3 - Q1\n",
        " \n",
        "print(\"Old Shape: \", data.shape)\n",
        "\n",
        "# Upper bound\n",
        "upper = np.where(data['fullname words'] >= (Q3+1.5*IQR))\n",
        "# Lower bound\n",
        "lower = np.where(data['fullname words'] <= (Q1-1.5*IQR))\n",
        "print(upper)\n",
        " \n",
        "''' Removing the Outliers '''\n",
        "data.drop(upper[0] ,inplace = True)\n",
        "\n",
        " \n",
        "print(\"New Shape: \", data.shape)"
      ],
      "metadata": {
        "colab": {
          "base_uri": "https://localhost:8080/"
        },
        "id": "6IejNzIkdLSG",
        "outputId": "faf7ad9b-363d-46ab-9bc7-57b7d78d0957"
      },
      "execution_count": null,
      "outputs": [
        {
          "output_type": "stream",
          "name": "stdout",
          "text": [
            "Old Shape:  (523, 12)\n",
            "(array([  5,  22,  34, 119, 123, 145, 170, 190, 305, 507]),)\n",
            "New Shape:  (513, 12)\n"
          ]
        }
      ]
    },
    {
      "cell_type": "markdown",
      "source": [
        "Removing otliers from **#follows**"
      ],
      "metadata": {
        "id": "a_XCWS2JdbTd"
      }
    },
    {
      "cell_type": "code",
      "source": [
        "Q1 = np.percentile(data['#follows'], 25,\n",
        "                   interpolation = 'midpoint')\n",
        " \n",
        "Q3 = np.percentile(data['#follows'], 75,\n",
        "                   interpolation = 'midpoint')\n",
        "IQR = Q3 - Q1\n",
        " \n",
        "print(\"Old Shape: \", data.shape)\n",
        "\n",
        "# Upper bound\n",
        "upper = np.where(data['#follows'] >= (Q3+1.5*IQR))\n",
        "# Lower bound\n",
        "lower = np.where(data['#follows'] <= (Q1-1.5*IQR))\n",
        "print(upper)\n",
        " \n",
        "''' Removing the Outliers '''\n",
        "data.drop([  7,  15,  24, 48,  69,  71,  73,  74,  91,  94, 109, 121,\n",
        "         136, 182, 202, 220, 298, 340, 358, 397, 408, 445,\n",
        "       447, 454, 470, 471, 472, 475, 485])\n",
        "\n",
        " \n",
        "print(\"New Shape: \", data.shape)"
      ],
      "metadata": {
        "colab": {
          "base_uri": "https://localhost:8080/"
        },
        "id": "2DNv0IGUdjRt",
        "outputId": "7e6f9951-aad1-48a8-cd16-791a36825be1"
      },
      "execution_count": null,
      "outputs": [
        {
          "output_type": "stream",
          "name": "stdout",
          "text": [
            "Old Shape:  (513, 12)\n",
            "(array([  7,  15,  24,  30,  48,  69,  71,  73,  74,  91,  94, 109, 121,\n",
            "       123, 133, 136, 182, 202, 213, 220, 298, 340, 358, 397, 408, 445,\n",
            "       447, 454, 470, 471, 472, 475, 485]),)\n",
            "New Shape:  (513, 12)\n"
          ]
        }
      ]
    },
    {
      "cell_type": "markdown",
      "source": [
        "****"
      ],
      "metadata": {
        "id": "Z9b3Cw7rgdgu"
      }
    },
    {
      "cell_type": "code",
      "source": [
        "data"
      ],
      "metadata": {
        "colab": {
          "base_uri": "https://localhost:8080/",
          "height": 505
        },
        "id": "hF68LLLIac8G",
        "outputId": "d2048bf1-b66e-457b-9b6a-e155eafe0400"
      },
      "execution_count": null,
      "outputs": [
        {
          "output_type": "execute_result",
          "data": {
            "text/plain": [
              "     profile pic  nums/length username  fullname words  nums/length fullname  \\\n",
              "0              1                  0.27               0                  0.00   \n",
              "1              1                  0.00               2                  0.00   \n",
              "2              1                  0.10               2                  0.00   \n",
              "3              1                  0.00               1                  0.00   \n",
              "4              1                  0.00               2                  0.00   \n",
              "..           ...                   ...             ...                   ...   \n",
              "571            1                  0.55               1                  0.44   \n",
              "572            1                  0.38               1                  0.33   \n",
              "573            1                  0.57               2                  0.00   \n",
              "574            1                  0.57               1                  0.00   \n",
              "575            1                  0.27               1                  0.00   \n",
              "\n",
              "     name==username  description length  external URL  private  #posts  \\\n",
              "0                 0                  53             0        0      32   \n",
              "1                 0                  44             0        0     286   \n",
              "2                 0                   0             0        1      13   \n",
              "3                 0                  82             0        0     679   \n",
              "4                 0                   0             0        1       6   \n",
              "..              ...                 ...           ...      ...     ...   \n",
              "571               0                   0             0        0      33   \n",
              "572               0                  21             0        0      44   \n",
              "573               0                   0             0        0       4   \n",
              "574               0                  11             0        0       0   \n",
              "575               0                   0             0        0       2   \n",
              "\n",
              "     #followers  #follows  fake  \n",
              "0          1000       955     0  \n",
              "1          2740       533     0  \n",
              "2           159        98     0  \n",
              "3           414       651     0  \n",
              "4           151       126     0  \n",
              "..          ...       ...   ...  \n",
              "571         166       596     1  \n",
              "572          66        75     1  \n",
              "573          96       339     1  \n",
              "574          57        73     1  \n",
              "575         150       487     1  \n",
              "\n",
              "[513 rows x 12 columns]"
            ],
            "text/html": [
              "\n",
              "  <div id=\"df-b6c8704b-955e-412a-a83d-6a29db63f277\">\n",
              "    <div class=\"colab-df-container\">\n",
              "      <div>\n",
              "<style scoped>\n",
              "    .dataframe tbody tr th:only-of-type {\n",
              "        vertical-align: middle;\n",
              "    }\n",
              "\n",
              "    .dataframe tbody tr th {\n",
              "        vertical-align: top;\n",
              "    }\n",
              "\n",
              "    .dataframe thead th {\n",
              "        text-align: right;\n",
              "    }\n",
              "</style>\n",
              "<table border=\"1\" class=\"dataframe\">\n",
              "  <thead>\n",
              "    <tr style=\"text-align: right;\">\n",
              "      <th></th>\n",
              "      <th>profile pic</th>\n",
              "      <th>nums/length username</th>\n",
              "      <th>fullname words</th>\n",
              "      <th>nums/length fullname</th>\n",
              "      <th>name==username</th>\n",
              "      <th>description length</th>\n",
              "      <th>external URL</th>\n",
              "      <th>private</th>\n",
              "      <th>#posts</th>\n",
              "      <th>#followers</th>\n",
              "      <th>#follows</th>\n",
              "      <th>fake</th>\n",
              "    </tr>\n",
              "  </thead>\n",
              "  <tbody>\n",
              "    <tr>\n",
              "      <th>0</th>\n",
              "      <td>1</td>\n",
              "      <td>0.27</td>\n",
              "      <td>0</td>\n",
              "      <td>0.00</td>\n",
              "      <td>0</td>\n",
              "      <td>53</td>\n",
              "      <td>0</td>\n",
              "      <td>0</td>\n",
              "      <td>32</td>\n",
              "      <td>1000</td>\n",
              "      <td>955</td>\n",
              "      <td>0</td>\n",
              "    </tr>\n",
              "    <tr>\n",
              "      <th>1</th>\n",
              "      <td>1</td>\n",
              "      <td>0.00</td>\n",
              "      <td>2</td>\n",
              "      <td>0.00</td>\n",
              "      <td>0</td>\n",
              "      <td>44</td>\n",
              "      <td>0</td>\n",
              "      <td>0</td>\n",
              "      <td>286</td>\n",
              "      <td>2740</td>\n",
              "      <td>533</td>\n",
              "      <td>0</td>\n",
              "    </tr>\n",
              "    <tr>\n",
              "      <th>2</th>\n",
              "      <td>1</td>\n",
              "      <td>0.10</td>\n",
              "      <td>2</td>\n",
              "      <td>0.00</td>\n",
              "      <td>0</td>\n",
              "      <td>0</td>\n",
              "      <td>0</td>\n",
              "      <td>1</td>\n",
              "      <td>13</td>\n",
              "      <td>159</td>\n",
              "      <td>98</td>\n",
              "      <td>0</td>\n",
              "    </tr>\n",
              "    <tr>\n",
              "      <th>3</th>\n",
              "      <td>1</td>\n",
              "      <td>0.00</td>\n",
              "      <td>1</td>\n",
              "      <td>0.00</td>\n",
              "      <td>0</td>\n",
              "      <td>82</td>\n",
              "      <td>0</td>\n",
              "      <td>0</td>\n",
              "      <td>679</td>\n",
              "      <td>414</td>\n",
              "      <td>651</td>\n",
              "      <td>0</td>\n",
              "    </tr>\n",
              "    <tr>\n",
              "      <th>4</th>\n",
              "      <td>1</td>\n",
              "      <td>0.00</td>\n",
              "      <td>2</td>\n",
              "      <td>0.00</td>\n",
              "      <td>0</td>\n",
              "      <td>0</td>\n",
              "      <td>0</td>\n",
              "      <td>1</td>\n",
              "      <td>6</td>\n",
              "      <td>151</td>\n",
              "      <td>126</td>\n",
              "      <td>0</td>\n",
              "    </tr>\n",
              "    <tr>\n",
              "      <th>...</th>\n",
              "      <td>...</td>\n",
              "      <td>...</td>\n",
              "      <td>...</td>\n",
              "      <td>...</td>\n",
              "      <td>...</td>\n",
              "      <td>...</td>\n",
              "      <td>...</td>\n",
              "      <td>...</td>\n",
              "      <td>...</td>\n",
              "      <td>...</td>\n",
              "      <td>...</td>\n",
              "      <td>...</td>\n",
              "    </tr>\n",
              "    <tr>\n",
              "      <th>571</th>\n",
              "      <td>1</td>\n",
              "      <td>0.55</td>\n",
              "      <td>1</td>\n",
              "      <td>0.44</td>\n",
              "      <td>0</td>\n",
              "      <td>0</td>\n",
              "      <td>0</td>\n",
              "      <td>0</td>\n",
              "      <td>33</td>\n",
              "      <td>166</td>\n",
              "      <td>596</td>\n",
              "      <td>1</td>\n",
              "    </tr>\n",
              "    <tr>\n",
              "      <th>572</th>\n",
              "      <td>1</td>\n",
              "      <td>0.38</td>\n",
              "      <td>1</td>\n",
              "      <td>0.33</td>\n",
              "      <td>0</td>\n",
              "      <td>21</td>\n",
              "      <td>0</td>\n",
              "      <td>0</td>\n",
              "      <td>44</td>\n",
              "      <td>66</td>\n",
              "      <td>75</td>\n",
              "      <td>1</td>\n",
              "    </tr>\n",
              "    <tr>\n",
              "      <th>573</th>\n",
              "      <td>1</td>\n",
              "      <td>0.57</td>\n",
              "      <td>2</td>\n",
              "      <td>0.00</td>\n",
              "      <td>0</td>\n",
              "      <td>0</td>\n",
              "      <td>0</td>\n",
              "      <td>0</td>\n",
              "      <td>4</td>\n",
              "      <td>96</td>\n",
              "      <td>339</td>\n",
              "      <td>1</td>\n",
              "    </tr>\n",
              "    <tr>\n",
              "      <th>574</th>\n",
              "      <td>1</td>\n",
              "      <td>0.57</td>\n",
              "      <td>1</td>\n",
              "      <td>0.00</td>\n",
              "      <td>0</td>\n",
              "      <td>11</td>\n",
              "      <td>0</td>\n",
              "      <td>0</td>\n",
              "      <td>0</td>\n",
              "      <td>57</td>\n",
              "      <td>73</td>\n",
              "      <td>1</td>\n",
              "    </tr>\n",
              "    <tr>\n",
              "      <th>575</th>\n",
              "      <td>1</td>\n",
              "      <td>0.27</td>\n",
              "      <td>1</td>\n",
              "      <td>0.00</td>\n",
              "      <td>0</td>\n",
              "      <td>0</td>\n",
              "      <td>0</td>\n",
              "      <td>0</td>\n",
              "      <td>2</td>\n",
              "      <td>150</td>\n",
              "      <td>487</td>\n",
              "      <td>1</td>\n",
              "    </tr>\n",
              "  </tbody>\n",
              "</table>\n",
              "<p>513 rows × 12 columns</p>\n",
              "</div>\n",
              "      <button class=\"colab-df-convert\" onclick=\"convertToInteractive('df-b6c8704b-955e-412a-a83d-6a29db63f277')\"\n",
              "              title=\"Convert this dataframe to an interactive table.\"\n",
              "              style=\"display:none;\">\n",
              "        \n",
              "  <svg xmlns=\"http://www.w3.org/2000/svg\" height=\"24px\"viewBox=\"0 0 24 24\"\n",
              "       width=\"24px\">\n",
              "    <path d=\"M0 0h24v24H0V0z\" fill=\"none\"/>\n",
              "    <path d=\"M18.56 5.44l.94 2.06.94-2.06 2.06-.94-2.06-.94-.94-2.06-.94 2.06-2.06.94zm-11 1L8.5 8.5l.94-2.06 2.06-.94-2.06-.94L8.5 2.5l-.94 2.06-2.06.94zm10 10l.94 2.06.94-2.06 2.06-.94-2.06-.94-.94-2.06-.94 2.06-2.06.94z\"/><path d=\"M17.41 7.96l-1.37-1.37c-.4-.4-.92-.59-1.43-.59-.52 0-1.04.2-1.43.59L10.3 9.45l-7.72 7.72c-.78.78-.78 2.05 0 2.83L4 21.41c.39.39.9.59 1.41.59.51 0 1.02-.2 1.41-.59l7.78-7.78 2.81-2.81c.8-.78.8-2.07 0-2.86zM5.41 20L4 18.59l7.72-7.72 1.47 1.35L5.41 20z\"/>\n",
              "  </svg>\n",
              "      </button>\n",
              "      \n",
              "  <style>\n",
              "    .colab-df-container {\n",
              "      display:flex;\n",
              "      flex-wrap:wrap;\n",
              "      gap: 12px;\n",
              "    }\n",
              "\n",
              "    .colab-df-convert {\n",
              "      background-color: #E8F0FE;\n",
              "      border: none;\n",
              "      border-radius: 50%;\n",
              "      cursor: pointer;\n",
              "      display: none;\n",
              "      fill: #1967D2;\n",
              "      height: 32px;\n",
              "      padding: 0 0 0 0;\n",
              "      width: 32px;\n",
              "    }\n",
              "\n",
              "    .colab-df-convert:hover {\n",
              "      background-color: #E2EBFA;\n",
              "      box-shadow: 0px 1px 2px rgba(60, 64, 67, 0.3), 0px 1px 3px 1px rgba(60, 64, 67, 0.15);\n",
              "      fill: #174EA6;\n",
              "    }\n",
              "\n",
              "    [theme=dark] .colab-df-convert {\n",
              "      background-color: #3B4455;\n",
              "      fill: #D2E3FC;\n",
              "    }\n",
              "\n",
              "    [theme=dark] .colab-df-convert:hover {\n",
              "      background-color: #434B5C;\n",
              "      box-shadow: 0px 1px 3px 1px rgba(0, 0, 0, 0.15);\n",
              "      filter: drop-shadow(0px 1px 2px rgba(0, 0, 0, 0.3));\n",
              "      fill: #FFFFFF;\n",
              "    }\n",
              "  </style>\n",
              "\n",
              "      <script>\n",
              "        const buttonEl =\n",
              "          document.querySelector('#df-b6c8704b-955e-412a-a83d-6a29db63f277 button.colab-df-convert');\n",
              "        buttonEl.style.display =\n",
              "          google.colab.kernel.accessAllowed ? 'block' : 'none';\n",
              "\n",
              "        async function convertToInteractive(key) {\n",
              "          const element = document.querySelector('#df-b6c8704b-955e-412a-a83d-6a29db63f277');\n",
              "          const dataTable =\n",
              "            await google.colab.kernel.invokeFunction('convertToInteractive',\n",
              "                                                     [key], {});\n",
              "          if (!dataTable) return;\n",
              "\n",
              "          const docLinkHtml = 'Like what you see? Visit the ' +\n",
              "            '<a target=\"_blank\" href=https://colab.research.google.com/notebooks/data_table.ipynb>data table notebook</a>'\n",
              "            + ' to learn more about interactive tables.';\n",
              "          element.innerHTML = '';\n",
              "          dataTable['output_type'] = 'display_data';\n",
              "          await google.colab.output.renderOutput(dataTable, element);\n",
              "          const docLink = document.createElement('div');\n",
              "          docLink.innerHTML = docLinkHtml;\n",
              "          element.appendChild(docLink);\n",
              "        }\n",
              "      </script>\n",
              "    </div>\n",
              "  </div>\n",
              "  "
            ]
          },
          "metadata": {},
          "execution_count": 59
        }
      ]
    },
    {
      "cell_type": "markdown",
      "source": [
        "# Preprocessing data\n",
        "\n"
      ],
      "metadata": {
        "id": "lDS0Q3dwPiUD"
      }
    },
    {
      "cell_type": "markdown",
      "source": [
        "**Seperating the label from the features**\n",
        "\n",
        "\n"
      ],
      "metadata": {
        "id": "_1fcLBiMQf60"
      }
    },
    {
      "cell_type": "code",
      "source": [
        "data_f = data.drop(\"fake\", axis = 1)\n",
        "data_l = data[\"fake\"]"
      ],
      "metadata": {
        "id": "5dKvGqMlPkWD"
      },
      "execution_count": null,
      "outputs": []
    },
    {
      "cell_type": "markdown",
      "source": [
        "**Scaling data**"
      ],
      "metadata": {
        "id": "pOcm6SaeQyHE"
      }
    },
    {
      "cell_type": "markdown",
      "source": [
        "Scaling data means to make all values in all variables within the same range (around 0-1)"
      ],
      "metadata": {
        "id": "ZPf6MxFHRDgf"
      }
    },
    {
      "cell_type": "code",
      "source": [
        "scaler = StandardScaler()\n",
        "data_f = scaler.fit_transform(data_f)\n",
        "data_f.mean(), data_f.std()"
      ],
      "metadata": {
        "colab": {
          "base_uri": "https://localhost:8080/"
        },
        "id": "Xq0CBfYkQ0zr",
        "outputId": "b7b90807-8f54-4d34-e2a3-b4439ab0227a"
      },
      "execution_count": null,
      "outputs": [
        {
          "output_type": "execute_result",
          "data": {
            "text/plain": [
              "(2.5183155617937275e-17, 0.9999999999999999)"
            ]
          },
          "metadata": {},
          "execution_count": 61
        }
      ]
    },
    {
      "cell_type": "markdown",
      "source": [
        "# Preprocessing test data"
      ],
      "metadata": {
        "id": "7AuW7EQaV349"
      }
    },
    {
      "cell_type": "code",
      "source": [
        "test= pd.read_csv('test.csv')\n",
        "test"
      ],
      "metadata": {
        "colab": {
          "base_uri": "https://localhost:8080/",
          "height": 505
        },
        "id": "tWv0ZLiEWTjF",
        "outputId": "786763ad-e90e-4e5b-c806-bae071326e94"
      },
      "execution_count": null,
      "outputs": [
        {
          "output_type": "execute_result",
          "data": {
            "text/plain": [
              "     profile pic  nums/length username  fullname words  nums/length fullname  \\\n",
              "0              1                  0.33               1                  0.33   \n",
              "1              1                  0.00               5                  0.00   \n",
              "2              1                  0.00               2                  0.00   \n",
              "3              1                  0.00               1                  0.00   \n",
              "4              1                  0.50               1                  0.00   \n",
              "..           ...                   ...             ...                   ...   \n",
              "115            1                  0.29               1                  0.00   \n",
              "116            1                  0.40               1                  0.00   \n",
              "117            1                  0.00               2                  0.00   \n",
              "118            0                  0.17               1                  0.00   \n",
              "119            1                  0.44               1                  0.00   \n",
              "\n",
              "     name==username  description length  external URL  private  #posts  \\\n",
              "0                 1                  30             0        1      35   \n",
              "1                 0                  64             0        1       3   \n",
              "2                 0                  82             0        1     319   \n",
              "3                 0                 143             0        1     273   \n",
              "4                 0                  76             0        1       6   \n",
              "..              ...                 ...           ...      ...     ...   \n",
              "115               0                   0             0        0      13   \n",
              "116               0                   0             0        0       4   \n",
              "117               0                   0             0        0       3   \n",
              "118               0                   0             0        0       1   \n",
              "119               0                   0             0        0       3   \n",
              "\n",
              "     #followers  #follows  fake  \n",
              "0           488       604     0  \n",
              "1            35         6     0  \n",
              "2           328       668     0  \n",
              "3         14890      7369     0  \n",
              "4           225       356     0  \n",
              "..          ...       ...   ...  \n",
              "115         114       811     1  \n",
              "116         150       164     1  \n",
              "117         833      3572     1  \n",
              "118         219      1695     1  \n",
              "119          39        68     1  \n",
              "\n",
              "[120 rows x 12 columns]"
            ],
            "text/html": [
              "\n",
              "  <div id=\"df-a7f01a87-4b3f-4beb-8467-24ea97e2f038\">\n",
              "    <div class=\"colab-df-container\">\n",
              "      <div>\n",
              "<style scoped>\n",
              "    .dataframe tbody tr th:only-of-type {\n",
              "        vertical-align: middle;\n",
              "    }\n",
              "\n",
              "    .dataframe tbody tr th {\n",
              "        vertical-align: top;\n",
              "    }\n",
              "\n",
              "    .dataframe thead th {\n",
              "        text-align: right;\n",
              "    }\n",
              "</style>\n",
              "<table border=\"1\" class=\"dataframe\">\n",
              "  <thead>\n",
              "    <tr style=\"text-align: right;\">\n",
              "      <th></th>\n",
              "      <th>profile pic</th>\n",
              "      <th>nums/length username</th>\n",
              "      <th>fullname words</th>\n",
              "      <th>nums/length fullname</th>\n",
              "      <th>name==username</th>\n",
              "      <th>description length</th>\n",
              "      <th>external URL</th>\n",
              "      <th>private</th>\n",
              "      <th>#posts</th>\n",
              "      <th>#followers</th>\n",
              "      <th>#follows</th>\n",
              "      <th>fake</th>\n",
              "    </tr>\n",
              "  </thead>\n",
              "  <tbody>\n",
              "    <tr>\n",
              "      <th>0</th>\n",
              "      <td>1</td>\n",
              "      <td>0.33</td>\n",
              "      <td>1</td>\n",
              "      <td>0.33</td>\n",
              "      <td>1</td>\n",
              "      <td>30</td>\n",
              "      <td>0</td>\n",
              "      <td>1</td>\n",
              "      <td>35</td>\n",
              "      <td>488</td>\n",
              "      <td>604</td>\n",
              "      <td>0</td>\n",
              "    </tr>\n",
              "    <tr>\n",
              "      <th>1</th>\n",
              "      <td>1</td>\n",
              "      <td>0.00</td>\n",
              "      <td>5</td>\n",
              "      <td>0.00</td>\n",
              "      <td>0</td>\n",
              "      <td>64</td>\n",
              "      <td>0</td>\n",
              "      <td>1</td>\n",
              "      <td>3</td>\n",
              "      <td>35</td>\n",
              "      <td>6</td>\n",
              "      <td>0</td>\n",
              "    </tr>\n",
              "    <tr>\n",
              "      <th>2</th>\n",
              "      <td>1</td>\n",
              "      <td>0.00</td>\n",
              "      <td>2</td>\n",
              "      <td>0.00</td>\n",
              "      <td>0</td>\n",
              "      <td>82</td>\n",
              "      <td>0</td>\n",
              "      <td>1</td>\n",
              "      <td>319</td>\n",
              "      <td>328</td>\n",
              "      <td>668</td>\n",
              "      <td>0</td>\n",
              "    </tr>\n",
              "    <tr>\n",
              "      <th>3</th>\n",
              "      <td>1</td>\n",
              "      <td>0.00</td>\n",
              "      <td>1</td>\n",
              "      <td>0.00</td>\n",
              "      <td>0</td>\n",
              "      <td>143</td>\n",
              "      <td>0</td>\n",
              "      <td>1</td>\n",
              "      <td>273</td>\n",
              "      <td>14890</td>\n",
              "      <td>7369</td>\n",
              "      <td>0</td>\n",
              "    </tr>\n",
              "    <tr>\n",
              "      <th>4</th>\n",
              "      <td>1</td>\n",
              "      <td>0.50</td>\n",
              "      <td>1</td>\n",
              "      <td>0.00</td>\n",
              "      <td>0</td>\n",
              "      <td>76</td>\n",
              "      <td>0</td>\n",
              "      <td>1</td>\n",
              "      <td>6</td>\n",
              "      <td>225</td>\n",
              "      <td>356</td>\n",
              "      <td>0</td>\n",
              "    </tr>\n",
              "    <tr>\n",
              "      <th>...</th>\n",
              "      <td>...</td>\n",
              "      <td>...</td>\n",
              "      <td>...</td>\n",
              "      <td>...</td>\n",
              "      <td>...</td>\n",
              "      <td>...</td>\n",
              "      <td>...</td>\n",
              "      <td>...</td>\n",
              "      <td>...</td>\n",
              "      <td>...</td>\n",
              "      <td>...</td>\n",
              "      <td>...</td>\n",
              "    </tr>\n",
              "    <tr>\n",
              "      <th>115</th>\n",
              "      <td>1</td>\n",
              "      <td>0.29</td>\n",
              "      <td>1</td>\n",
              "      <td>0.00</td>\n",
              "      <td>0</td>\n",
              "      <td>0</td>\n",
              "      <td>0</td>\n",
              "      <td>0</td>\n",
              "      <td>13</td>\n",
              "      <td>114</td>\n",
              "      <td>811</td>\n",
              "      <td>1</td>\n",
              "    </tr>\n",
              "    <tr>\n",
              "      <th>116</th>\n",
              "      <td>1</td>\n",
              "      <td>0.40</td>\n",
              "      <td>1</td>\n",
              "      <td>0.00</td>\n",
              "      <td>0</td>\n",
              "      <td>0</td>\n",
              "      <td>0</td>\n",
              "      <td>0</td>\n",
              "      <td>4</td>\n",
              "      <td>150</td>\n",
              "      <td>164</td>\n",
              "      <td>1</td>\n",
              "    </tr>\n",
              "    <tr>\n",
              "      <th>117</th>\n",
              "      <td>1</td>\n",
              "      <td>0.00</td>\n",
              "      <td>2</td>\n",
              "      <td>0.00</td>\n",
              "      <td>0</td>\n",
              "      <td>0</td>\n",
              "      <td>0</td>\n",
              "      <td>0</td>\n",
              "      <td>3</td>\n",
              "      <td>833</td>\n",
              "      <td>3572</td>\n",
              "      <td>1</td>\n",
              "    </tr>\n",
              "    <tr>\n",
              "      <th>118</th>\n",
              "      <td>0</td>\n",
              "      <td>0.17</td>\n",
              "      <td>1</td>\n",
              "      <td>0.00</td>\n",
              "      <td>0</td>\n",
              "      <td>0</td>\n",
              "      <td>0</td>\n",
              "      <td>0</td>\n",
              "      <td>1</td>\n",
              "      <td>219</td>\n",
              "      <td>1695</td>\n",
              "      <td>1</td>\n",
              "    </tr>\n",
              "    <tr>\n",
              "      <th>119</th>\n",
              "      <td>1</td>\n",
              "      <td>0.44</td>\n",
              "      <td>1</td>\n",
              "      <td>0.00</td>\n",
              "      <td>0</td>\n",
              "      <td>0</td>\n",
              "      <td>0</td>\n",
              "      <td>0</td>\n",
              "      <td>3</td>\n",
              "      <td>39</td>\n",
              "      <td>68</td>\n",
              "      <td>1</td>\n",
              "    </tr>\n",
              "  </tbody>\n",
              "</table>\n",
              "<p>120 rows × 12 columns</p>\n",
              "</div>\n",
              "      <button class=\"colab-df-convert\" onclick=\"convertToInteractive('df-a7f01a87-4b3f-4beb-8467-24ea97e2f038')\"\n",
              "              title=\"Convert this dataframe to an interactive table.\"\n",
              "              style=\"display:none;\">\n",
              "        \n",
              "  <svg xmlns=\"http://www.w3.org/2000/svg\" height=\"24px\"viewBox=\"0 0 24 24\"\n",
              "       width=\"24px\">\n",
              "    <path d=\"M0 0h24v24H0V0z\" fill=\"none\"/>\n",
              "    <path d=\"M18.56 5.44l.94 2.06.94-2.06 2.06-.94-2.06-.94-.94-2.06-.94 2.06-2.06.94zm-11 1L8.5 8.5l.94-2.06 2.06-.94-2.06-.94L8.5 2.5l-.94 2.06-2.06.94zm10 10l.94 2.06.94-2.06 2.06-.94-2.06-.94-.94-2.06-.94 2.06-2.06.94z\"/><path d=\"M17.41 7.96l-1.37-1.37c-.4-.4-.92-.59-1.43-.59-.52 0-1.04.2-1.43.59L10.3 9.45l-7.72 7.72c-.78.78-.78 2.05 0 2.83L4 21.41c.39.39.9.59 1.41.59.51 0 1.02-.2 1.41-.59l7.78-7.78 2.81-2.81c.8-.78.8-2.07 0-2.86zM5.41 20L4 18.59l7.72-7.72 1.47 1.35L5.41 20z\"/>\n",
              "  </svg>\n",
              "      </button>\n",
              "      \n",
              "  <style>\n",
              "    .colab-df-container {\n",
              "      display:flex;\n",
              "      flex-wrap:wrap;\n",
              "      gap: 12px;\n",
              "    }\n",
              "\n",
              "    .colab-df-convert {\n",
              "      background-color: #E8F0FE;\n",
              "      border: none;\n",
              "      border-radius: 50%;\n",
              "      cursor: pointer;\n",
              "      display: none;\n",
              "      fill: #1967D2;\n",
              "      height: 32px;\n",
              "      padding: 0 0 0 0;\n",
              "      width: 32px;\n",
              "    }\n",
              "\n",
              "    .colab-df-convert:hover {\n",
              "      background-color: #E2EBFA;\n",
              "      box-shadow: 0px 1px 2px rgba(60, 64, 67, 0.3), 0px 1px 3px 1px rgba(60, 64, 67, 0.15);\n",
              "      fill: #174EA6;\n",
              "    }\n",
              "\n",
              "    [theme=dark] .colab-df-convert {\n",
              "      background-color: #3B4455;\n",
              "      fill: #D2E3FC;\n",
              "    }\n",
              "\n",
              "    [theme=dark] .colab-df-convert:hover {\n",
              "      background-color: #434B5C;\n",
              "      box-shadow: 0px 1px 3px 1px rgba(0, 0, 0, 0.15);\n",
              "      filter: drop-shadow(0px 1px 2px rgba(0, 0, 0, 0.3));\n",
              "      fill: #FFFFFF;\n",
              "    }\n",
              "  </style>\n",
              "\n",
              "      <script>\n",
              "        const buttonEl =\n",
              "          document.querySelector('#df-a7f01a87-4b3f-4beb-8467-24ea97e2f038 button.colab-df-convert');\n",
              "        buttonEl.style.display =\n",
              "          google.colab.kernel.accessAllowed ? 'block' : 'none';\n",
              "\n",
              "        async function convertToInteractive(key) {\n",
              "          const element = document.querySelector('#df-a7f01a87-4b3f-4beb-8467-24ea97e2f038');\n",
              "          const dataTable =\n",
              "            await google.colab.kernel.invokeFunction('convertToInteractive',\n",
              "                                                     [key], {});\n",
              "          if (!dataTable) return;\n",
              "\n",
              "          const docLinkHtml = 'Like what you see? Visit the ' +\n",
              "            '<a target=\"_blank\" href=https://colab.research.google.com/notebooks/data_table.ipynb>data table notebook</a>'\n",
              "            + ' to learn more about interactive tables.';\n",
              "          element.innerHTML = '';\n",
              "          dataTable['output_type'] = 'display_data';\n",
              "          await google.colab.output.renderOutput(dataTable, element);\n",
              "          const docLink = document.createElement('div');\n",
              "          docLink.innerHTML = docLinkHtml;\n",
              "          element.appendChild(docLink);\n",
              "        }\n",
              "      </script>\n",
              "    </div>\n",
              "  </div>\n",
              "  "
            ]
          },
          "metadata": {},
          "execution_count": 62
        }
      ]
    },
    {
      "cell_type": "code",
      "source": [
        "test_f = test.drop(\"fake\", axis = 1)\n",
        "test_l = test[\"fake\"]\n",
        "scaler = StandardScaler()\n",
        "test_f = scaler.fit_transform(test_f)\n",
        "test_f.mean(), test_f.std()"
      ],
      "metadata": {
        "colab": {
          "base_uri": "https://localhost:8080/"
        },
        "id": "6KrjR-rsW2GN",
        "outputId": "0a405af1-7b78-4ff7-bee3-6c63f2c08c46"
      },
      "execution_count": null,
      "outputs": [
        {
          "output_type": "execute_result",
          "data": {
            "text/plain": [
              "(2.6914497566670462e-17, 1.0)"
            ]
          },
          "metadata": {},
          "execution_count": 63
        }
      ]
    },
    {
      "cell_type": "markdown",
      "source": [
        "# Modeling"
      ],
      "metadata": {
        "id": "2yXcpWbWRJP7"
      }
    },
    {
      "cell_type": "markdown",
      "source": [
        "**Applying Decision tree on or training dataset**"
      ],
      "metadata": {
        "id": "kgmY1jazTkPt"
      }
    },
    {
      "cell_type": "markdown",
      "source": [
        "Decision Trees are a type of Supervised Machine Learning (that is you explain what the input is and what the corresponding output is in the training data) where the data is continuously split according to a certain parameter.\n",
        "\n",
        "The reason was because the decision tree has soem parameters that we can optimize later, like the **max_depth** in which we are gonna apply the **TDO optimizer**"
      ],
      "metadata": {
        "id": "-M9yEpqcTyqk"
      }
    },
    {
      "cell_type": "code",
      "source": [
        "from sklearn.tree import DecisionTreeClassifier\n",
        "from sklearn.neighbors import KNeighborsClassifier\n",
        "\n",
        "m = 'DecisionTreeClassifier'\n",
        "dt = DecisionTreeClassifier(criterion = 'entropy',random_state=0,max_depth = 8)\n",
        "dt.fit(data_f, data_l)\n",
        "dt_predicted = dt.predict(test_f)\n",
        "dt_conf_matrix = confusion_matrix(test_l, dt_predicted)\n",
        "f, ax = plt.subplots(figsize=(5,5))\n",
        "sns.heatmap(dt_conf_matrix,annot = True, linewidths=0.5,fmt=\".0f\",ax=ax)\n",
        "plt.xlabel(\"Prediction(Ypred)\")\n",
        "plt.ylabel(\"Ytrue\")\n",
        "plt.title(\"Confussion Matrix\")\n",
        "plt.show()\n",
        "\n",
        "dt_acc_score = accuracy_score(test_l, dt_predicted)\n",
        "\n",
        "print(\"\\n\")\n",
        "print(\"Accuracy of DecisionTreeClassifier:\",dt_acc_score*100,'\\n')\n",
        "print(classification_report(test_l,dt_predicted))\n",
        "\n"
      ],
      "metadata": {
        "colab": {
          "base_uri": "https://localhost:8080/",
          "height": 576
        },
        "id": "O7W5SMrNVYt9",
        "outputId": "b6913e6d-4a25-43d6-ce3c-aa4fe18ce3fb"
      },
      "execution_count": null,
      "outputs": [
        {
          "output_type": "display_data",
          "data": {
            "text/plain": [
              "<Figure size 360x360 with 2 Axes>"
            ],
            "image/png": "[encoded data removed]"
          },
          "metadata": {
            "needs_background": "light"
          }
        },
        {
          "output_type": "stream",
          "name": "stdout",
          "text": [
            "\n",
            "\n",
            "Accuracy of DecisionTreeClassifier: 70.0 \n",
            "\n",
            "              precision    recall  f1-score   support\n",
            "\n",
            "           0       0.90      0.45      0.60        60\n",
            "           1       0.63      0.95      0.76        60\n",
            "\n",
            "    accuracy                           0.70       120\n",
            "   macro avg       0.77      0.70      0.68       120\n",
            "weighted avg       0.77      0.70      0.68       120\n",
            "\n"
          ]
        }
      ]
    },
    {
      "cell_type": "markdown",
      "source": [
        "Here we used a **max_depth** of **6** just to test if the optimizer algorithm will do any changes and find a better accuaracy with a better parameter.\n",
        "\n",
        "The Accuracy here is **74.00%**"
      ],
      "metadata": {
        "id": "_uPQouzjX8u1"
      }
    },
    {
      "cell_type": "markdown",
      "source": [
        "# Optimizing using the Tasmanian Devil Optimizer **TDO**"
      ],
      "metadata": {
        "id": "14OdSvF3dX60"
      }
    },
    {
      "cell_type": "markdown",
      "source": [
        "the tasmanian devil picks between two strategies, and for our example we are going to apply it this way:\n",
        "****\n",
        "\n",
        "The first is **Feeding by eating carrion**\n",
        "\n",
        "   basically, it tests the accuracy of the given parameter, if it's better then the last one (which means it's closer to 100%, means bigger), it takes the new accuracy value and advances one more case.\n",
        "\n",
        "   If not, it keeps the accuracy value and goes backwards.\n",
        "   ****\n",
        "The second is **Feeding by eating prey**\n",
        "\n",
        "It goes after a random prey at first, then if the accuracy is better, it calculates a new position based on the radius variable **R** and keeps moving forwards, if not, it keeps the same value.\n",
        "   ****\n",
        "\n",
        "it decides on which strategy to use based on a random value generated each time a new iteration comes.\n",
        "\n",
        "\n",
        "For this algorithm the parameters are the following:\n",
        "\n",
        "\n",
        "\n",
        "*   N -----> the number of the population of each parameter.\n",
        "*   T -----> the number of the iterations.\n",
        "*   Population is max_depth values.\n",
        "\n",
        "\n",
        "\n",
        "\n",
        "\n"
      ],
      "metadata": {
        "id": "_DKw6O-CdgOs"
      }
    },
    {
      "cell_type": "code",
      "source": [
        "import random\n",
        "import math\n",
        "\n",
        "\n",
        "max_depth = [4,10,8,6]\n",
        "\n",
        "#max_depth optimization\n",
        "N=4\n",
        "T=10\n",
        "\n",
        "#initialization\n",
        "p=random.randint(0,N)\n",
        "position=max_depth[p]\n",
        "dt = DecisionTreeClassifier(criterion = 'entropy',random_state=0,max_depth = position)\n",
        "dt.fit(data_f, data_l)\n",
        "dt_predicted = dt.predict(test_f)\n",
        "dt_acc_score = accuracy_score(test_l, dt_predicted)\n",
        "calculated_accuracy=dt_acc_score*100\n",
        "accuracy=calculated_accuracy\n",
        "\n",
        "#calclating radius used in the second strategy\n",
        "\n",
        "\n",
        "#loop begins\n",
        "\n",
        "for t in range(1,T):\n",
        "  for i in range(0,N):\n",
        "    pr=random.uniform(0, 1)\n",
        "    print(\"random value is: \",pr)\n",
        "    #testing probability\n",
        "    if pr<0.5:\n",
        "      #Strategy 1 feeding by eating carrion \n",
        "      dt = DecisionTreeClassifier(criterion = 'entropy',\n",
        "                                  random_state=0,max_depth = position)\n",
        "      dt.fit(data_f, data_l)\n",
        "      dt_predicted = dt.predict(test_f)\n",
        "      dt_acc_score = accuracy_score(test_l, dt_predicted)\n",
        "      calculated_accuracy=dt_acc_score*100\n",
        "      if accuracy > calculated_accuracy:\n",
        "        accuracy=calculated_accuracy\n",
        "        p=p+1\n",
        "        position=max_depth[p]\n",
        "      else:\n",
        "        p=p-1  \n",
        "        position=max_depth[p]\n",
        "    else:\n",
        "      #strategy 2 feeding by eating prey\n",
        "     \n",
        "      p=random.randint(0,N)\n",
        "      dt = DecisionTreeClassifier(criterion = 'entropy',\n",
        "                                  random_state=0,max_depth = position)\n",
        "      dt.fit(data_f, data_l)\n",
        "      dt_predicted = dt.predict(test_f)\n",
        "      dt_acc_score = accuracy_score(test_l, dt_predicted)\n",
        "      calculated_accuracy=dt_acc_score*100\n",
        "      if accuracy > calculated_accuracy:\n",
        "        accuracy=calculated_accuracy\n",
        "        R=0.01*(1-(t/T))\n",
        "        R=math.trunc(R)\n",
        "        p=(p+1)*R\n",
        "        p=math.trunc(p)\n",
        "        position=max_depth[p]\n",
        "\n",
        "#you go ot of the loop with the best position\n",
        "print('best position is: ', position)\n",
        "\n",
        "\n",
        "\n",
        "m = 'DecisionTreeClassifier'\n",
        "dt = DecisionTreeClassifier(criterion = 'entropy',random_state=0,max_depth = position)\n",
        "dt.fit(data_f, data_l)\n",
        "dt_predicted = dt.predict(test_f)\n",
        "dt_conf_matrix = confusion_matrix(test_l, dt_predicted)\n",
        "f, ax = plt.subplots(figsize=(5,5))\n",
        "sns.heatmap(dt_conf_matrix,annot = True, linewidths=0.5,fmt=\".0f\",ax=ax)\n",
        "plt.xlabel(\"Prediction(Ypred)\")\n",
        "plt.ylabel(\"Ytrue\")\n",
        "plt.title(\"Confussion Matrix\")\n",
        "plt.show()\n",
        "\n",
        "dt_acc_score = accuracy_score(test_l, dt_predicted)\n",
        "\n",
        "print(\"\\n\")\n",
        "print(\"Accuracy of DecisionTreeClassifier:\",dt_acc_score*100,'\\n')\n",
        "print(classification_report(test_l,dt_predicted))"
      ],
      "metadata": {
        "colab": {
          "base_uri": "https://localhost:8080/",
          "height": 1000
        },
        "id": "e26FUYZNA1O1",
        "outputId": "158fb9a9-21bb-4da8-9b38-da8750a43866"
      },
      "execution_count": null,
      "outputs": [
        {
          "output_type": "stream",
          "name": "stdout",
          "text": [
            "random value is:  0.05098730866696921\n",
            "random value is:  0.9304500109562791\n",
            "random value is:  0.7696439436796172\n",
            "random value is:  0.21958040028311143\n",
            "random value is:  0.3743234054415674\n",
            "random value is:  0.41513036352605903\n",
            "random value is:  0.6966839035664026\n",
            "random value is:  0.6799544698992744\n",
            "random value is:  0.019381025812294506\n",
            "random value is:  0.5758957178671865\n",
            "random value is:  0.31688025662657393\n",
            "random value is:  0.90845522811024\n",
            "random value is:  0.5889581685464566\n",
            "random value is:  0.6590205616014558\n",
            "random value is:  0.2884709620761787\n",
            "random value is:  0.7644695498591956\n",
            "random value is:  0.45300604848214865\n",
            "random value is:  0.8055408549839768\n",
            "random value is:  0.5781344467285663\n",
            "random value is:  0.604505500567628\n",
            "random value is:  0.3500642696817805\n",
            "random value is:  0.6382258141440136\n",
            "random value is:  0.7458380002866161\n",
            "random value is:  0.8214261703761646\n",
            "random value is:  0.03097640310158234\n",
            "random value is:  0.07983655130838219\n",
            "random value is:  0.5996044537582598\n",
            "random value is:  0.26632109054196107\n",
            "random value is:  0.5862694521926908\n",
            "random value is:  0.6481807876147502\n",
            "random value is:  0.34386880586228974\n",
            "random value is:  0.0727788395990312\n",
            "random value is:  0.8292715161868223\n",
            "random value is:  0.6492712920746176\n",
            "random value is:  0.9459552391125234\n",
            "random value is:  0.8534508036550134\n",
            "best position is:  6\n"
          ]
        },
        {
          "output_type": "display_data",
          "data": {
            "text/plain": [
              "<Figure size 360x360 with 2 Axes>"
            ],
            "image/png": "[encoded data removed]"
          },
          "metadata": {
            "needs_background": "light"
          }
        },
        {
          "output_type": "stream",
          "name": "stdout",
          "text": [
            "\n",
            "\n",
            "Accuracy of DecisionTreeClassifier: 74.16666666666667 \n",
            "\n",
            "              precision    recall  f1-score   support\n",
            "\n",
            "           0       0.91      0.53      0.67        60\n",
            "           1       0.67      0.95      0.79        60\n",
            "\n",
            "    accuracy                           0.74       120\n",
            "   macro avg       0.79      0.74      0.73       120\n",
            "weighted avg       0.79      0.74      0.73       120\n",
            "\n"
          ]
        }
      ]
    },
    {
      "cell_type": "markdown",
      "source": [
        "As we can see, the **TDO** chose a better **max_depth** for our decision tree and generated a better accuracy of **74.17%**"
      ],
      "metadata": {
        "id": "TyXjXRbVPWiQ"
      }
    }
  ]
}